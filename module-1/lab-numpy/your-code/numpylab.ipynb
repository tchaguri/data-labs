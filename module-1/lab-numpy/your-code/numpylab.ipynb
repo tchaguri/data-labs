{
 "cells": [
  {
   "cell_type": "code",
   "execution_count": 1,
   "metadata": {},
   "outputs": [
    {
     "name": "stdout",
     "output_type": "stream",
     "text": [
      "1.16.2\n"
     ]
    }
   ],
   "source": [
    "#1. Import the NUMPY package under the name np.\n",
    "\n",
    "import numpy as np\n",
    "import random\n",
    "\n",
    "#2. Print the NUMPY version and the configuration.\n",
    "\n",
    "print(np.version.version)\n",
    "\n"
   ]
  },
  {
   "cell_type": "code",
   "execution_count": 2,
   "metadata": {},
   "outputs": [
    {
     "name": "stdout",
     "output_type": "stream",
     "text": [
      "[[[0.266558   0.56727922 0.13868013 0.79292333 0.94279738]\n",
      "  [0.42761874 0.46966937 0.31912298 0.41147781 0.38065359]\n",
      "  [0.18269588 0.38099133 0.18084798 0.10070651 0.91611515]]\n",
      "\n",
      " [[0.4010577  0.24313664 0.28634381 0.4336309  0.37175707]\n",
      "  [0.96275472 0.48365605 0.06628482 0.79584383 0.92866059]\n",
      "  [0.75311626 0.32006018 0.60888784 0.58485133 0.27492887]]]\n"
     ]
    }
   ],
   "source": [
    "#3. Generate a 2x3x5 3-dimensional array with random values. Assign the array to variable \"a\"\n",
    "# Challenge: there are at least three easy ways that use numpy to generate random arrays. How many ways can you find?\n",
    "\n",
    "a = np.random.random((2,3,5))\n",
    "\n",
    "#4. Print a.\n",
    "\n",
    "print(a)\n"
   ]
  },
  {
   "cell_type": "code",
   "execution_count": 11,
   "metadata": {},
   "outputs": [
    {
     "name": "stdout",
     "output_type": "stream",
     "text": [
      "[[[1. 1. 1.]\n",
      "  [1. 1. 1.]]\n",
      "\n",
      " [[1. 1. 1.]\n",
      "  [1. 1. 1.]]\n",
      "\n",
      " [[1. 1. 1.]\n",
      "  [1. 1. 1.]]\n",
      "\n",
      " [[1. 1. 1.]\n",
      "  [1. 1. 1.]]\n",
      "\n",
      " [[1. 1. 1.]\n",
      "  [1. 1. 1.]]]\n"
     ]
    }
   ],
   "source": [
    "#5. Create a 5x2x3 3-dimensional array with all values equaling 1.\n",
    "#Assign the array to variable \"b\"\n",
    "\n",
    "b = np.ones((5, 2, 3))\n",
    "\n",
    "#6. Print b.\n",
    "\n",
    "print(b)"
   ]
  },
  {
   "cell_type": "code",
   "execution_count": 27,
   "metadata": {},
   "outputs": [
    {
     "name": "stdout",
     "output_type": "stream",
     "text": [
      "A and B have different sizes\n"
     ]
    },
    {
     "name": "stderr",
     "output_type": "stream",
     "text": [
      "C:\\Users\\Lulu\\Anaconda3\\lib\\site-packages\\ipykernel_launcher.py:5: DeprecationWarning: elementwise comparison failed; this will raise an error in the future.\n",
      "  \"\"\"\n"
     ]
    }
   ],
   "source": [
    "#7. Do a and b have the same size? How do you prove that in Python code?\n",
    "\n",
    "# Não\n",
    "\n",
    "if a == b:\n",
    "    print(\"A and B are of the same size\")\n",
    "else:\n",
    "    print(\"A and B have different sizes\")\n",
    "\n",
    "#8. Are you able to add a and b? Why or why not?\n",
    "\n",
    "# Não, pois a e b tem dimensões diferentes.\n"
   ]
  },
  {
   "cell_type": "code",
   "execution_count": 24,
   "metadata": {},
   "outputs": [
    {
     "name": "stdout",
     "output_type": "stream",
     "text": [
      "[[[0.266558   0.56727922 0.13868013 0.79292333 0.94279738]\n",
      "  [0.42761874 0.46966937 0.31912298 0.41147781 0.38065359]\n",
      "  [0.18269588 0.38099133 0.18084798 0.10070651 0.91611515]]\n",
      "\n",
      " [[0.4010577  0.24313664 0.28634381 0.4336309  0.37175707]\n",
      "  [0.96275472 0.48365605 0.06628482 0.79584383 0.92866059]\n",
      "  [0.75311626 0.32006018 0.60888784 0.58485133 0.27492887]]] [[[1.266558   1.56727922 1.13868013 1.79292333 1.94279738]\n",
      "  [1.42761874 1.46966937 1.31912298 1.41147781 1.38065359]\n",
      "  [1.18269588 1.38099133 1.18084798 1.10070651 1.91611515]]\n",
      "\n",
      " [[1.4010577  1.24313664 1.28634381 1.4336309  1.37175707]\n",
      "  [1.96275472 1.48365605 1.06628482 1.79584383 1.92866059]\n",
      "  [1.75311626 1.32006018 1.60888784 1.58485133 1.27492887]]]\n"
     ]
    }
   ],
   "source": [
    "#9. Transpose b so that it has the same structure of a (i.e. become a 2x3x5 array). Assign the transposed array to varialbe \"c\".\n",
    "\n",
    "c = np.reshape(b, (2,3,5))\n",
    "\n",
    "#10. Try to add a and c. Now it should work. Assign the sum to varialbe \"d\". But why does it work now?\n",
    "\n",
    "d = a + c\n",
    "\n",
    "# A soma agora funciona pois as matrizes tem a mesma forma\n",
    "\n",
    "#11. Print a and d. Notice the difference and relation of the two array in terms of the values? Explain.\n",
    "\n",
    "print(a, d)\n",
    "\n",
    "# a diferença é a soma que D é igual a A + 1"
   ]
  },
  {
   "cell_type": "code",
   "execution_count": 32,
   "metadata": {},
   "outputs": [
    {
     "name": "stdout",
     "output_type": "stream",
     "text": [
      "[[[0.266558   0.56727922 0.13868013 0.79292333 0.94279738]\n",
      "  [0.42761874 0.46966937 0.31912298 0.41147781 0.38065359]\n",
      "  [0.18269588 0.38099133 0.18084798 0.10070651 0.91611515]]\n",
      "\n",
      " [[0.4010577  0.24313664 0.28634381 0.4336309  0.37175707]\n",
      "  [0.96275472 0.48365605 0.06628482 0.79584383 0.92866059]\n",
      "  [0.75311626 0.32006018 0.60888784 0.58485133 0.27492887]]] [[[0.266558   0.56727922 0.13868013 0.79292333 0.94279738]\n",
      "  [0.42761874 0.46966937 0.31912298 0.41147781 0.38065359]\n",
      "  [0.18269588 0.38099133 0.18084798 0.10070651 0.91611515]]\n",
      "\n",
      " [[0.4010577  0.24313664 0.28634381 0.4336309  0.37175707]\n",
      "  [0.96275472 0.48365605 0.06628482 0.79584383 0.92866059]\n",
      "  [0.75311626 0.32006018 0.60888784 0.58485133 0.27492887]]]\n"
     ]
    }
   ],
   "source": [
    "#12. Multiply a and c. Assign the result to e.\n",
    "\n",
    "e = a * c\n",
    "\n",
    "#13. Does e equal to a? Why or why not?\n",
    "\n",
    "print(a, e)\n",
    "\n",
    "# são iguais pois multipliou-se A por 1"
   ]
  },
  {
   "cell_type": "code",
   "execution_count": 35,
   "metadata": {},
   "outputs": [
    {
     "name": "stdout",
     "output_type": "stream",
     "text": [
      "1.9627547238336058 1.0662848173068036 1.4664369337878507\n"
     ]
    }
   ],
   "source": [
    "#14. Identify the max, min, and mean values in d. Assign those values to variables \"d_max\", \"d_min\", and \"d_mean\"\n",
    "\n",
    "d_max = np.max(d)\n",
    "d_min = np.min(d)\n",
    "d_mean = np.mean(d)\n",
    "\n",
    "print(d_max, d_min, d_mean)\n"
   ]
  },
  {
   "cell_type": "code",
   "execution_count": 48,
   "metadata": {},
   "outputs": [
    {
     "name": "stdout",
     "output_type": "stream",
     "text": [
      "[[[1.266558   1.56727922 1.13868013 1.79292333 1.94279738]\n",
      "  [1.42761874 1.46966937 1.31912298 1.41147781 1.38065359]\n",
      "  [1.18269588 1.38099133 1.18084798 1.10070651 1.91611515]]\n",
      "\n",
      " [[1.4010577  1.24313664 1.28634381 1.4336309  1.37175707]\n",
      "  [1.96275472 1.48365605 1.06628482 1.79584383 1.92866059]\n",
      "  [1.75311626 1.32006018 1.60888784 1.58485133 1.27492887]]] [[[ 25.  75.  25.  75.  75.]\n",
      "  [ 25.  75.  25.  25.  25.]\n",
      "  [ 25.  25.  25.  25.  75.]]\n",
      "\n",
      " [[ 25.  25.  25.  25.  25.]\n",
      "  [100.  75.   0.  75.  75.]\n",
      "  [ 75.  25.  75.  75.  25.]]]\n"
     ]
    },
    {
     "data": {
      "text/plain": [
       "'\\n#18. Bonus question: instead of using numbers (i.e. 0, 25, 50, 75, and 100), how to use string values \\n(\"A\", \"B\", \"C\", \"D\", and \"E\") to label the array elements? You are expecting the result to be:\\narray([[[ \\'D\\',  \\'D\\',  \\'D\\',  \\'B\\',  \\'D\\'],\\n        [ \\'D\\',  \\'D\\',  \\'B\\',  \\'B\\',  \\'B\\'],\\n        [ \\'D\\',  \\'B\\',  \\'D\\',  \\'D\\',  \\'D\\']],\\n\\n       [[ \\'B\\',  \\'B\\',  \\'B\\',  \\'B\\',  \\'E\\'],\\n        [ \\'D\\',  \\'D\\',  \\'D\\',  \\'D\\',  \\'D\\'],\\n        [ \\'B\\',  \\'D\\',   \\'A\\',  \\'D\\', \\'D\\']]])\\nAgain, you don\\'t need Numpy in this question.\\n'"
      ]
     },
     "execution_count": 48,
     "metadata": {},
     "output_type": "execute_result"
    }
   ],
   "source": [
    "#15. Now we want to label the values in d. First create an empty array \"f\" with the same shape (i.e. 2x3x5)\n",
    "#as d using `np.empty`.\n",
    "\n",
    "f = np.empty((2,3,5))\n",
    "\n",
    "\n",
    "\"\"\"\n",
    "#16. Populate the values in f. For each value in d, if it's larger than d_min but smaller than d_mean,\n",
    "assign 25 to the corresponding value in f.\n",
    "If a value in d is larger than d_mean but smaller than d_max, assign 75 to the corresponding value in f.\n",
    "If a value equals to d_mean, assign 50 to the corresponding value in f.\n",
    "Assign 0 to the corresponding value(s) in f for d_min in d.\n",
    "Assign 100 to the corresponding value(s) in f for d_max in d.\n",
    "In the end, f should have only the following values: 0, 25, 50, 75, and 100.\n",
    "Note: you don't have to use Numpy in this question.\n",
    "\"\"\"\n",
    "\n",
    "lst = f.shape\n",
    "\n",
    "for row in range(lst[0]):\n",
    "    for dmns in range(lst[1]):\n",
    "        for column in range(lst[2]):\n",
    "            if d[row, dmns, column] > d_min and d[row, dmns, column] < d_mean:\n",
    "                f[row, dmns, column] = 25\n",
    "            elif d[row, dmns, column] > d_mean and d[row, dmns, column] < d_max:\n",
    "                f[row, dmns, column] = 75\n",
    "            elif d[row, dmns, column] == d_mean:\n",
    "                f[row, dmns, column] = 50\n",
    "            elif d[row, dmns, column] == d_min:\n",
    "                f[row, dmns, column] = 0\n",
    "            elif d[row, dmns, column] == d_max:\n",
    "                f[row, dmns, column] = 100\n",
    "            else:\n",
    "                break\n",
    "\n",
    "\"\"\"\n",
    "#17. Print d and f. Do you have your expected f?\n",
    "For instance, if your d is:\n",
    "array([[[1.85836099, 1.67064465, 1.62576044, 1.40243961, 1.88454931],\n",
    "        [1.75354326, 1.69403643, 1.36729252, 1.61415071, 1.12104981],\n",
    "        [1.72201435, 1.1862918 , 1.87078449, 1.7726778 , 1.88180042]],\n",
    "\n",
    "       [[1.44747908, 1.31673383, 1.02000951, 1.52218947, 1.97066381],\n",
    "        [1.79129243, 1.74983003, 1.96028037, 1.85166831, 1.65450881],\n",
    "        [1.18068344, 1.9587381 , 1.00656599, 1.93402165, 1.73514584]]])\n",
    "\n",
    "Your f should be:\n",
    "array([[[ 75.,  75.,  75.,  25.,  75.],\n",
    "        [ 75.,  75.,  25.,  25.,  25.],\n",
    "        [ 75.,  25.,  75.,  75.,  75.]],\n",
    "\n",
    "       [[ 25.,  25.,  25.,  25., 100.],\n",
    "        [ 75.,  75.,  75.,  75.,  75.],\n",
    "        [ 25.,  75.,   0.,  75.,  75.]]])\n",
    "\"\"\"\n",
    "\n",
    "print(d, f)\n"
   ]
  },
  {
   "cell_type": "code",
   "execution_count": 2,
   "metadata": {},
   "outputs": [
    {
     "ename": "SyntaxError",
     "evalue": "can't assign to function call (<ipython-input-2-000fb86cd59b>, line 18)",
     "output_type": "error",
     "traceback": [
      "\u001b[1;36m  File \u001b[1;32m\"<ipython-input-2-000fb86cd59b>\"\u001b[1;36m, line \u001b[1;32m18\u001b[0m\n\u001b[1;33m    f[row, dmns, column].str() = 'A'\u001b[0m\n\u001b[1;37m    ^\u001b[0m\n\u001b[1;31mSyntaxError\u001b[0m\u001b[1;31m:\u001b[0m can't assign to function call\n"
     ]
    }
   ],
   "source": [
    "\"\"\"\n",
    "#18. Bonus question: instead of using numbers (i.e. 0, 25, 50, 75, and 100), how to use string values \n",
    "(\"A\", \"B\", \"C\", \"D\", and \"E\") to label the array elements? You are expecting the result to be:\n",
    "array([[[ 'D',  'D',  'D',  'B',  'D'],\n",
    "        [ 'D',  'D',  'B',  'B',  'B'],\n",
    "        [ 'D',  'B',  'D',  'D',  'D']],\n",
    "\n",
    "       [[ 'B',  'B',  'B',  'B',  'E'],\n",
    "        [ 'D',  'D',  'D',  'D',  'D'],\n",
    "        [ 'B',  'D',   'A',  'D', 'D']]])\n",
    "Again, you don't need Numpy in this question.\n",
    "\"\"\"\n",
    "\n",
    "for row in range(lst[0]):\n",
    "    for dmns in range(lst[1]):\n",
    "        for column in range(lst[2]):\n",
    "            if d[row, dmns, column] > d_min and d[row, dmns, column] < d_mean:\n",
    "                f[row, dmns, column] = 'A'\n",
    "            elif d[row, dmns, column] > d_mean and d[row, dmns, column] < d_max:\n",
    "                f[row, dmns, column] = 'B'\n",
    "            elif d[row, dmns, column] == d_mean:\n",
    "                f[row, dmns, column] = 'C'\n",
    "            elif d[row, dmns, column] == d_min:\n",
    "                f[row, dmns, column] = 'D'\n",
    "            elif d[row, dmns, column] == d_max:\n",
    "                f[row, dmns, column] = 'E'\n",
    "            else:\n",
    "                break\n",
    "\n",
    "print(f)"
   ]
  }
 ],
 "metadata": {
  "kernelspec": {
   "display_name": "Python 3",
   "language": "python",
   "name": "python3"
  },
  "language_info": {
   "codemirror_mode": {
    "name": "ipython",
    "version": 3
   },
   "file_extension": ".py",
   "mimetype": "text/x-python",
   "name": "python",
   "nbconvert_exporter": "python",
   "pygments_lexer": "ipython3",
   "version": "3.7.3"
  }
 },
 "nbformat": 4,
 "nbformat_minor": 2
}
